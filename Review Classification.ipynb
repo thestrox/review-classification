{
 "cells": [
  {
   "cell_type": "code",
   "execution_count": 1,
   "metadata": {
    "collapsed": false
   },
   "outputs": [],
   "source": [
    "#Import pandas library and read the csv file\n",
    "import pandas as pd\n",
    "path = '/yelp.csv'\n",
    "df = pd.read_csv(path)"
   ]
  },
  {
   "cell_type": "code",
   "execution_count": 2,
   "metadata": {
    "collapsed": false,
    "scrolled": false
   },
   "outputs": [
    {
     "data": {
      "text/html": [
       "<div>\n",
       "<table border=\"1\" class=\"dataframe\">\n",
       "  <thead>\n",
       "    <tr style=\"text-align: right;\">\n",
       "      <th></th>\n",
       "      <th>business_id</th>\n",
       "      <th>date</th>\n",
       "      <th>review_id</th>\n",
       "      <th>stars</th>\n",
       "      <th>text</th>\n",
       "      <th>type</th>\n",
       "      <th>user_id</th>\n",
       "      <th>cool</th>\n",
       "      <th>useful</th>\n",
       "      <th>funny</th>\n",
       "    </tr>\n",
       "  </thead>\n",
       "  <tbody>\n",
       "    <tr>\n",
       "      <th>0</th>\n",
       "      <td>9yKzy9PApeiPPOUJEtnvkg</td>\n",
       "      <td>2011-01-26</td>\n",
       "      <td>fWKvX83p0-ka4JS3dc6E5A</td>\n",
       "      <td>5</td>\n",
       "      <td>My wife took me here on my birthday for breakf...</td>\n",
       "      <td>review</td>\n",
       "      <td>rLtl8ZkDX5vH5nAx9C3q5Q</td>\n",
       "      <td>2</td>\n",
       "      <td>5</td>\n",
       "      <td>0</td>\n",
       "    </tr>\n",
       "  </tbody>\n",
       "</table>\n",
       "</div>"
      ],
      "text/plain": [
       "              business_id        date               review_id  stars  \\\n",
       "0  9yKzy9PApeiPPOUJEtnvkg  2011-01-26  fWKvX83p0-ka4JS3dc6E5A      5   \n",
       "\n",
       "                                                text    type  \\\n",
       "0  My wife took me here on my birthday for breakf...  review   \n",
       "\n",
       "                  user_id  cool  useful  funny  \n",
       "0  rLtl8ZkDX5vH5nAx9C3q5Q     2       5      0  "
      ]
     },
     "execution_count": 2,
     "metadata": {},
     "output_type": "execute_result"
    }
   ],
   "source": [
    "#Inspect the 1st row\n",
    "df.head(1)"
   ]
  },
  {
   "cell_type": "code",
   "execution_count": 3,
   "metadata": {
    "collapsed": false,
    "scrolled": false
   },
   "outputs": [
    {
     "data": {
      "text/plain": [
       "array([[<matplotlib.axes._subplots.AxesSubplot object at 0x0000019000C67828>]], dtype=object)"
      ]
     },
     "execution_count": 3,
     "metadata": {},
     "output_type": "execute_result"
    },
    {
     "data": {
      "image/png": "[encoded data removed]",
      "text/plain": [
       "<matplotlib.figure.Figure at 0x19000c2b470>"
      ]
     },
     "metadata": {},
     "output_type": "display_data"
    }
   ],
   "source": [
    "#Plot stars clomun to get some idea about its distribution\n",
    "%matplotlib inline\n",
    "df.hist(column='stars', bins=50)"
   ]
  },
  {
   "cell_type": "code",
   "execution_count": 4,
   "metadata": {
    "collapsed": true
   },
   "outputs": [],
   "source": [
    "#For binary classification filtering only the good(5 star) and bad(1 star) reviews\n",
    "df_good_bad = df[(df.stars==5) | (df.stars==1)]"
   ]
  },
  {
   "cell_type": "code",
   "execution_count": 5,
   "metadata": {
    "collapsed": true
   },
   "outputs": [],
   "source": [
    "#Feature text is stored in X and response/class in y\n",
    "X = df_good_bad.text\n",
    "y = df_good_bad.stars"
   ]
  },
  {
   "cell_type": "code",
   "execution_count": 6,
   "metadata": {
    "collapsed": false
   },
   "outputs": [],
   "source": [
    "#Import train_test and split X and y\n",
    "from sklearn.model_selection import train_test_split\n",
    "X_train, X_test, y_train, y_test = train_test_split(X, y, random_state=2)"
   ]
  },
  {
   "cell_type": "code",
   "execution_count": 7,
   "metadata": {
    "collapsed": true
   },
   "outputs": [],
   "source": [
    "#Import CountVectorizer for feature extraction\n",
    "from sklearn.feature_extraction.text import CountVectorizer\n",
    "vect = CountVectorizer()"
   ]
  },
  {
   "cell_type": "code",
   "execution_count": 8,
   "metadata": {
    "collapsed": false
   },
   "outputs": [],
   "source": [
    "#Define document term matrix using CountVectorizer\n",
    "X_train_dtm = vect.fit_transform(X_train)\n",
    "X_test_dtm = vect.transform(X_test)"
   ]
  },
  {
   "cell_type": "code",
   "execution_count": 9,
   "metadata": {
    "collapsed": true
   },
   "outputs": [],
   "source": [
    "#Import MultinomialNB as a classification model to predict good or bad reivew\n",
    "from sklearn.naive_bayes import MultinomialNB\n",
    "nb = MultinomialNB()"
   ]
  },
  {
   "cell_type": "code",
   "execution_count": 10,
   "metadata": {
    "collapsed": false
   },
   "outputs": [
    {
     "data": {
      "text/plain": [
       "MultinomialNB(alpha=1.0, class_prior=None, fit_prior=True)"
      ]
     },
     "execution_count": 10,
     "metadata": {},
     "output_type": "execute_result"
    }
   ],
   "source": [
    "#Train model\n",
    "nb.fit(X_train_dtm, y_train)"
   ]
  },
  {
   "cell_type": "code",
   "execution_count": 11,
   "metadata": {
    "collapsed": false
   },
   "outputs": [],
   "source": [
    "#Predict for document term matrix of test samples\n",
    "y_pred_class = nb.predict(X_test_dtm)"
   ]
  },
  {
   "cell_type": "code",
   "execution_count": 12,
   "metadata": {
    "collapsed": false
   },
   "outputs": [
    {
     "data": {
      "text/plain": [
       "0.92759295499021521"
      ]
     },
     "execution_count": 12,
     "metadata": {},
     "output_type": "execute_result"
    }
   ],
   "source": [
    "#Calculate accuracy\n",
    "from sklearn import metrics\n",
    "metrics.accuracy_score(y_test, y_pred_class)"
   ]
  },
  {
   "cell_type": "code",
   "execution_count": 13,
   "metadata": {
    "collapsed": false
   },
   "outputs": [
    {
     "data": {
      "text/plain": [
       "array([[128,  61],\n",
       "       [ 13, 820]])"
      ]
     },
     "execution_count": 13,
     "metadata": {},
     "output_type": "execute_result"
    }
   ],
   "source": [
    "#Generate confusion matrix\n",
    "metrics.confusion_matrix(y_test, y_pred_class)"
   ]
  },
  {
   "cell_type": "code",
   "execution_count": 14,
   "metadata": {
    "collapsed": false
   },
   "outputs": [
    {
     "data": {
      "text/plain": [
       "9351    Dr. Pierrend is ok, he will write prescription...\n",
       "1227    This place was messy and loud.  The food reall...\n",
       "9296    My boyfriend and I tried this place last year ...\n",
       "1406    From my door, it's a five minute stroll throug...\n",
       "6229    Forget the yogurt and the berry berry bad serv...\n",
       "7803    I'm sad to report that we dined here for lunch...\n",
       "4562    despite it's billing as the 'largest thrift st...\n",
       "6977    Had to eat here with coworkers for lunch today...\n",
       "5814    I do enjoy a good bowl of Pho.   This was -not...\n",
       "666     I waited 45min and ended up with a tiny gross ...\n",
       "Name: text, dtype: object"
      ]
     },
     "execution_count": 14,
     "metadata": {},
     "output_type": "execute_result"
    }
   ],
   "source": [
    "#Examining the reviews that are incorrectly predicted\n",
    "#Bad reviews classified as Good reviews\n",
    "X_test[y_test < y_pred_class].head(10)"
   ]
  },
  {
   "cell_type": "code",
   "execution_count": 15,
   "metadata": {
    "collapsed": false
   },
   "outputs": [
    {
     "data": {
      "text/plain": [
       "\"This place was messy and loud.  The food really wasn't great and the salsa bar looked like a three year old put it together.  Overall the only plus was the tortilla chips that were free before the food.  I will not be back unless one of my friends pays for me\""
      ]
     },
     "execution_count": 15,
     "metadata": {},
     "output_type": "execute_result"
    }
   ],
   "source": [
    "X_test[1227]"
   ]
  },
  {
   "cell_type": "code",
   "execution_count": null,
   "metadata": {
    "collapsed": true
   },
   "outputs": [],
   "source": [
    "#Looks like the review is identified as good because of the words like free, great, plus"
   ]
  },
  {
   "cell_type": "code",
   "execution_count": 16,
   "metadata": {
    "collapsed": false
   },
   "outputs": [
    {
     "data": {
      "text/plain": [
       "3052    When I met some friends for dinner at this res...\n",
       "3999    TJ was there for me when my water heater broke...\n",
       "6376       They have a mechanical bull.  Need I say more?\n",
       "6512    When my youngest son graduated I took him to B...\n",
       "3075                       Unfortunately Out of Business.\n",
       "Name: text, dtype: object"
      ]
     },
     "execution_count": 16,
     "metadata": {},
     "output_type": "execute_result"
    }
   ],
   "source": [
    "#Good reviews classified as Bad reviews\n",
    "X_test[y_test > y_pred_class].head(5)"
   ]
  },
  {
   "cell_type": "code",
   "execution_count": 17,
   "metadata": {
    "collapsed": false,
    "scrolled": true
   },
   "outputs": [
    {
     "data": {
      "text/plain": [
       "'They have a mechanical bull.  Need I say more?'"
      ]
     },
     "execution_count": 17,
     "metadata": {},
     "output_type": "execute_result"
    }
   ],
   "source": [
    "X_test[6376]"
   ]
  },
  {
   "cell_type": "code",
   "execution_count": null,
   "metadata": {
    "collapsed": true
   },
   "outputs": [],
   "source": [
    "#Looks like the review is identified as bad because of less information."
   ]
  },
  {
   "cell_type": "code",
   "execution_count": 18,
   "metadata": {
    "collapsed": false
   },
   "outputs": [],
   "source": [
    "#Finding the word that has highest frequency in good and bad reviews\n",
    "X_train_word = vect.get_feature_names()\n",
    "bad_review_word_count = nb.feature_count_[0, :]\n",
    "good_review_word_count = nb.feature_count_[1, :]\n",
    "words = pd.DataFrame({'word':X_train_word, 'bad_review':bad_review_word_count, 'good_review':good_review_word_count}).set_index('word')"
   ]
  },
  {
   "cell_type": "code",
   "execution_count": 19,
   "metadata": {
    "collapsed": true
   },
   "outputs": [],
   "source": [
    "#Calculate frequency of word counts\n",
    "words['bad_review'] = (words.bad_review + 1)/ nb.class_count_[0]\n",
    "words['good_review'] = (words.good_review + 1)/ nb.class_count_[1]\n",
    "words['good_bad_ratio'] = words.good_review / words.bad_review"
   ]
  },
  {
   "cell_type": "code",
   "execution_count": 20,
   "metadata": {
    "collapsed": false,
    "scrolled": true
   },
   "outputs": [
    {
     "data": {
      "text/html": [
       "<div>\n",
       "<table border=\"1\" class=\"dataframe\">\n",
       "  <thead>\n",
       "    <tr style=\"text-align: right;\">\n",
       "      <th></th>\n",
       "      <th>bad_review</th>\n",
       "      <th>good_review</th>\n",
       "      <th>good_bad_ratio</th>\n",
       "    </tr>\n",
       "    <tr>\n",
       "      <th>word</th>\n",
       "      <th></th>\n",
       "      <th></th>\n",
       "      <th></th>\n",
       "    </tr>\n",
       "  </thead>\n",
       "  <tbody>\n",
       "    <tr>\n",
       "      <th>fantastic</th>\n",
       "      <td>0.001786</td>\n",
       "      <td>0.075479</td>\n",
       "      <td>42.268371</td>\n",
       "    </tr>\n",
       "    <tr>\n",
       "      <th>perfect</th>\n",
       "      <td>0.003571</td>\n",
       "      <td>0.099042</td>\n",
       "      <td>27.731629</td>\n",
       "    </tr>\n",
       "    <tr>\n",
       "      <th>yum</th>\n",
       "      <td>0.001786</td>\n",
       "      <td>0.021965</td>\n",
       "      <td>12.300319</td>\n",
       "    </tr>\n",
       "    <tr>\n",
       "      <th>favorite</th>\n",
       "      <td>0.010714</td>\n",
       "      <td>0.126198</td>\n",
       "      <td>11.778488</td>\n",
       "    </tr>\n",
       "    <tr>\n",
       "      <th>ribs</th>\n",
       "      <td>0.001786</td>\n",
       "      <td>0.018371</td>\n",
       "      <td>10.287540</td>\n",
       "    </tr>\n",
       "    <tr>\n",
       "      <th>perfection</th>\n",
       "      <td>0.001786</td>\n",
       "      <td>0.018371</td>\n",
       "      <td>10.287540</td>\n",
       "    </tr>\n",
       "    <tr>\n",
       "      <th>amazing</th>\n",
       "      <td>0.019643</td>\n",
       "      <td>0.176518</td>\n",
       "      <td>8.986349</td>\n",
       "    </tr>\n",
       "    <tr>\n",
       "      <th>organic</th>\n",
       "      <td>0.001786</td>\n",
       "      <td>0.015974</td>\n",
       "      <td>8.945687</td>\n",
       "    </tr>\n",
       "    <tr>\n",
       "      <th>gem</th>\n",
       "      <td>0.001786</td>\n",
       "      <td>0.014776</td>\n",
       "      <td>8.274760</td>\n",
       "    </tr>\n",
       "    <tr>\n",
       "      <th>mozzarella</th>\n",
       "      <td>0.001786</td>\n",
       "      <td>0.014377</td>\n",
       "      <td>8.051118</td>\n",
       "    </tr>\n",
       "  </tbody>\n",
       "</table>\n",
       "</div>"
      ],
      "text/plain": [
       "            bad_review  good_review  good_bad_ratio\n",
       "word                                               \n",
       "fantastic     0.001786     0.075479       42.268371\n",
       "perfect       0.003571     0.099042       27.731629\n",
       "yum           0.001786     0.021965       12.300319\n",
       "favorite      0.010714     0.126198       11.778488\n",
       "ribs          0.001786     0.018371       10.287540\n",
       "perfection    0.001786     0.018371       10.287540\n",
       "amazing       0.019643     0.176518        8.986349\n",
       "organic       0.001786     0.015974        8.945687\n",
       "gem           0.001786     0.014776        8.274760\n",
       "mozzarella    0.001786     0.014377        8.051118"
      ]
     },
     "execution_count": 20,
     "metadata": {},
     "output_type": "execute_result"
    }
   ],
   "source": [
    "#Most influential words for good review\n",
    "words.sort_values('good_bad_ratio', ascending=False).head(10)"
   ]
  },
  {
   "cell_type": "code",
   "execution_count": 21,
   "metadata": {
    "collapsed": false,
    "scrolled": true
   },
   "outputs": [
    {
     "data": {
      "text/html": [
       "<div>\n",
       "<table border=\"1\" class=\"dataframe\">\n",
       "  <thead>\n",
       "    <tr style=\"text-align: right;\">\n",
       "      <th></th>\n",
       "      <th>bad_review</th>\n",
       "      <th>good_review</th>\n",
       "      <th>good_bad_ratio</th>\n",
       "    </tr>\n",
       "    <tr>\n",
       "      <th>word</th>\n",
       "      <th></th>\n",
       "      <th></th>\n",
       "      <th></th>\n",
       "    </tr>\n",
       "  </thead>\n",
       "  <tbody>\n",
       "    <tr>\n",
       "      <th>bouncers</th>\n",
       "      <td>0.019643</td>\n",
       "      <td>0.000399</td>\n",
       "      <td>0.020331</td>\n",
       "    </tr>\n",
       "    <tr>\n",
       "      <th>refused</th>\n",
       "      <td>0.017857</td>\n",
       "      <td>0.000399</td>\n",
       "      <td>0.022364</td>\n",
       "    </tr>\n",
       "    <tr>\n",
       "      <th>unprofessional</th>\n",
       "      <td>0.016071</td>\n",
       "      <td>0.000399</td>\n",
       "      <td>0.024849</td>\n",
       "    </tr>\n",
       "    <tr>\n",
       "      <th>acknowledged</th>\n",
       "      <td>0.016071</td>\n",
       "      <td>0.000399</td>\n",
       "      <td>0.024849</td>\n",
       "    </tr>\n",
       "    <tr>\n",
       "      <th>ugh</th>\n",
       "      <td>0.030357</td>\n",
       "      <td>0.000799</td>\n",
       "      <td>0.026311</td>\n",
       "    </tr>\n",
       "    <tr>\n",
       "      <th>horrible</th>\n",
       "      <td>0.133929</td>\n",
       "      <td>0.003594</td>\n",
       "      <td>0.026837</td>\n",
       "    </tr>\n",
       "    <tr>\n",
       "      <th>rude</th>\n",
       "      <td>0.103571</td>\n",
       "      <td>0.002796</td>\n",
       "      <td>0.026991</td>\n",
       "    </tr>\n",
       "    <tr>\n",
       "      <th>awful</th>\n",
       "      <td>0.073214</td>\n",
       "      <td>0.001997</td>\n",
       "      <td>0.027273</td>\n",
       "    </tr>\n",
       "    <tr>\n",
       "      <th>annoyed</th>\n",
       "      <td>0.014286</td>\n",
       "      <td>0.000399</td>\n",
       "      <td>0.027955</td>\n",
       "    </tr>\n",
       "    <tr>\n",
       "      <th>fuse</th>\n",
       "      <td>0.014286</td>\n",
       "      <td>0.000399</td>\n",
       "      <td>0.027955</td>\n",
       "    </tr>\n",
       "  </tbody>\n",
       "</table>\n",
       "</div>"
      ],
      "text/plain": [
       "                bad_review  good_review  good_bad_ratio\n",
       "word                                                   \n",
       "bouncers          0.019643     0.000399        0.020331\n",
       "refused           0.017857     0.000399        0.022364\n",
       "unprofessional    0.016071     0.000399        0.024849\n",
       "acknowledged      0.016071     0.000399        0.024849\n",
       "ugh               0.030357     0.000799        0.026311\n",
       "horrible          0.133929     0.003594        0.026837\n",
       "rude              0.103571     0.002796        0.026991\n",
       "awful             0.073214     0.001997        0.027273\n",
       "annoyed           0.014286     0.000399        0.027955\n",
       "fuse              0.014286     0.000399        0.027955"
      ]
     },
     "execution_count": 21,
     "metadata": {},
     "output_type": "execute_result"
    }
   ],
   "source": [
    "#Most influential words for bad review\n",
    "words.sort_values('good_bad_ratio', ascending=True).head(10)"
   ]
  },
  {
   "cell_type": "code",
   "execution_count": 22,
   "metadata": {
    "collapsed": false
   },
   "outputs": [],
   "source": [
    "#Predicting the stars for review rather than only good or bad\n",
    "X = df.text\n",
    "y = df.stars"
   ]
  },
  {
   "cell_type": "code",
   "execution_count": 24,
   "metadata": {
    "collapsed": false
   },
   "outputs": [],
   "source": [
    "X_train, X_test, y_train, y_test = train_test_split(X, y, random_state=2)"
   ]
  },
  {
   "cell_type": "code",
   "execution_count": 25,
   "metadata": {
    "collapsed": true
   },
   "outputs": [],
   "source": [
    "X_train_dtm = vect.fit_transform(X_train)\n",
    "X_test_dtm = vect.transform(X_test)"
   ]
  },
  {
   "cell_type": "code",
   "execution_count": 26,
   "metadata": {
    "collapsed": false
   },
   "outputs": [
    {
     "data": {
      "text/plain": [
       "MultinomialNB(alpha=1.0, class_prior=None, fit_prior=True)"
      ]
     },
     "execution_count": 26,
     "metadata": {},
     "output_type": "execute_result"
    }
   ],
   "source": [
    "nb.fit(X_train_dtm, y_train)"
   ]
  },
  {
   "cell_type": "code",
   "execution_count": 27,
   "metadata": {
    "collapsed": true
   },
   "outputs": [],
   "source": [
    "y_pred_class = nb.predict(X_test_dtm)"
   ]
  },
  {
   "cell_type": "code",
   "execution_count": 28,
   "metadata": {
    "collapsed": false
   },
   "outputs": [
    {
     "data": {
      "text/plain": [
       "0.48520000000000002"
      ]
     },
     "execution_count": 28,
     "metadata": {},
     "output_type": "execute_result"
    }
   ],
   "source": [
    "metrics.accuracy_score(y_test, y_pred_class)"
   ]
  },
  {
   "cell_type": "code",
   "execution_count": 29,
   "metadata": {
    "collapsed": false,
    "scrolled": true
   },
   "outputs": [
    {
     "data": {
      "text/plain": [
       "array([[ 57,  29,  19,  71,  24],\n",
       "       [ 13,  20,  30, 140,  27],\n",
       "       [  2,   7,  33, 276,  31],\n",
       "       [  4,   1,  18, 655, 211],\n",
       "       [  1,   0,   2, 381, 448]])"
      ]
     },
     "execution_count": 29,
     "metadata": {},
     "output_type": "execute_result"
    }
   ],
   "source": [
    "metrics.confusion_matrix(y_test, y_pred_class)"
   ]
  },
  {
   "cell_type": "code",
   "execution_count": 30,
   "metadata": {
    "collapsed": false
   },
   "outputs": [
    {
     "name": "stdout",
     "output_type": "stream",
     "text": [
      "             precision    recall  f1-score   support\n",
      "\n",
      "          1       0.74      0.28      0.41       200\n",
      "          2       0.35      0.09      0.14       230\n",
      "          3       0.32      0.09      0.15       349\n",
      "          4       0.43      0.74      0.54       889\n",
      "          5       0.60      0.54      0.57       832\n",
      "\n",
      "avg / total       0.49      0.49      0.45      2500\n",
      "\n"
     ]
    }
   ],
   "source": [
    "#Accuracy based of precision, recall and f1-score\n",
    "print(metrics.classification_report(y_test, y_pred_class))"
   ]
  }
 ],
 "metadata": {
  "kernelspec": {
   "display_name": "Python 3",
   "language": "python",
   "name": "python3"
  },
  "language_info": {
   "codemirror_mode": {
    "name": "ipython",
    "version": 3
   },
   "file_extension": ".py",
   "mimetype": "text/x-python",
   "name": "python",
   "nbconvert_exporter": "python",
   "pygments_lexer": "ipython3",
   "version": "3.6.0"
  }
 },
 "nbformat": 4,
 "nbformat_minor": 2
}
